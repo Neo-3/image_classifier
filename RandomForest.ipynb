{
 "cells": [
  {
   "cell_type": "code",
   "execution_count": 1,
   "metadata": {},
   "outputs": [],
   "source": [
    "import pandas as pd\n",
    "import numpy as np\n",
    "import seaborn as sns\n",
    "import matplotlib.pyplot as plt\n",
    "from sklearn import ensemble\n",
    "from sklearn.ensemble import RandomForestClassifier\n"
   ]
  },
  {
   "cell_type": "code",
   "execution_count": 2,
   "metadata": {},
   "outputs": [],
   "source": [
    "df = pd.read_csv(\"/home/maria/projeto/image-classifier/data/imageDataSet.csv\")"
   ]
  },
  {
   "cell_type": "code",
   "execution_count": 3,
   "metadata": {},
   "outputs": [],
   "source": [
    "from sklearn.model_selection import train_test_split, cross_val_score\n",
    "\n",
    "df1=df.drop(\"Target\",axis=1)\n",
    "y=df[\"Target\"]\n",
    "X_train, X_test, y_train, y_test = train_test_split(df1, y, test_size=0.30, random_state=42)\n"
   ]
  },
  {
   "cell_type": "code",
   "execution_count": 5,
   "metadata": {},
   "outputs": [
    {
     "name": "stdout",
     "output_type": "stream",
     "text": [
      "Best parameters:\n",
      "\n",
      "{'criterion': 'gini', 'max_depth': None, 'max_features': 'sqrt', 'max_leaf_nodes': None, 'min_samples_leaf': 1, 'min_samples_split': 2, 'n_estimators': 150}\n",
      "\n",
      "0.9490025182618635\n"
     ]
    }
   ],
   "source": [
    "from sklearn.model_selection import GridSearchCV\n",
    "\n",
    "lista_parametros = { 'criterion' : ['gini','entropy'],\n",
    "                    'n_estimators' : [50,75,100,120, 150],\n",
    "                    'max_depth' : [2, 4, 5, 10, None],\n",
    "                    'min_samples_split' : [2,5,10], # Default = 2\n",
    "                    'min_samples_leaf' : [1, 3,  5], # Default = 1\n",
    "                    'max_features' : ['auto', 'sqrt', 'log2'], # Default = \"auto\"\n",
    "                    'max_leaf_nodes' : [3, 4, 5, None],\n",
    "                    'min_samples_leaf' : [1, 4, 10], # Default = 1\n",
    "                    }\n",
    "model = ensemble.RandomForestClassifier()\n",
    "\n",
    "clf = GridSearchCV(estimator=model,param_grid=lista_parametros, n_jobs= -1)\n",
    "clf.fit(X_train, y_train)\n",
    "\n",
    "print(\"Best parameters:\")\n",
    "print()\n",
    "print(clf.best_params_)\n",
    "print()\n",
    "print(clf.best_score_)"
   ]
  },
  {
   "cell_type": "code",
   "execution_count": 4,
   "metadata": {},
   "outputs": [
    {
     "name": "stdout",
     "output_type": "stream",
     "text": [
      "0.9503956177723676\n"
     ]
    }
   ],
   "source": [
    "model2 = ensemble.RandomForestClassifier(criterion='gini', max_depth=None, max_features='sqrt', max_leaf_nodes=None, min_samples_leaf=1, min_samples_split=2, n_estimators=150)\n",
    "model2.fit(X_train, y_train)\n",
    "print(model2.score(X_test,y_test))"
   ]
  },
  {
   "cell_type": "code",
   "execution_count": null,
   "metadata": {},
   "outputs": [],
   "source": []
  },
  {
   "cell_type": "code",
   "execution_count": 5,
   "metadata": {},
   "outputs": [],
   "source": [
    "Y_pred=model2.predict(X_test)"
   ]
  },
  {
   "cell_type": "code",
   "execution_count": 6,
   "metadata": {},
   "outputs": [
    {
     "data": {
      "text/plain": [
       "<matplotlib.legend.Legend at 0x7f3db442ac18>"
      ]
     },
     "execution_count": 6,
     "metadata": {},
     "output_type": "execute_result"
    },
    {
     "data": {
      "image/png": "[encoded data removed]",
      "text/plain": [
       "<Figure size 1080x360 with 1 Axes>"
      ]
     },
     "metadata": {
      "needs_background": "light"
     },
     "output_type": "display_data"
    }
   ],
   "source": [
    "\n",
    "plt.figure(figsize=(15,5))\n",
    "idx = np.argsort(y_test)\n",
    "plt.rcParams['axes.facecolor'] = 'gray'\n",
    "\n",
    "plt.scatter(range(len(y_test)), y_test.iloc[idx],label=\"Orignal Values\",s=350,alpha=1,c='y')\n",
    "\n",
    "plt.scatter(range(len(y_test)), Y_pred[idx],label=\"Predictions\",s=150,alpha=0.4 ,c='w', edgecolors='w')\n",
    "\n",
    "plt.legend(bbox_to_anchor=(0.99, 0.5),loc='center right',borderpad=1.5, labelspacing=1.5)"
   ]
  },
  {
   "cell_type": "code",
   "execution_count": 7,
   "metadata": {},
   "outputs": [],
   "source": [
    "from sklearn.metrics import confusion_matrix\n"
   ]
  },
  {
   "cell_type": "code",
   "execution_count": 8,
   "metadata": {},
   "outputs": [],
   "source": [
    "cfm=confusion_matrix(y_test, Y_pred)"
   ]
  },
  {
   "cell_type": "code",
   "execution_count": 13,
   "metadata": {},
   "outputs": [
    {
     "data": {
      "text/plain": [
       "<matplotlib.axes._subplots.AxesSubplot at 0x7f3db4280320>"
      ]
     },
     "execution_count": 13,
     "metadata": {},
     "output_type": "execute_result"
    },
    {
     "data": {
      "image/png": "[encoded data removed]",
      "text/plain": [
       "<Figure size 432x288 with 1 Axes>"
      ]
     },
     "metadata": {
      "needs_background": "light"
     },
     "output_type": "display_data"
    }
   ],
   "source": [
    "sns.heatmap(cfm, cbar=False, annot=True, cmap=\"Blues\", fmt=\"d\")\n"
   ]
  },
  {
   "cell_type": "code",
   "execution_count": null,
   "metadata": {},
   "outputs": [],
   "source": []
  }
 ],
 "metadata": {
  "kernelspec": {
   "display_name": "Python 3",
   "language": "python",
   "name": "python3"
  },
  "language_info": {
   "codemirror_mode": {
    "name": "ipython",
    "version": 3
   },
   "file_extension": ".py",
   "mimetype": "text/x-python",
   "name": "python",
   "nbconvert_exporter": "python",
   "pygments_lexer": "ipython3",
   "version": "3.6.10"
  }
 },
 "nbformat": 4,
 "nbformat_minor": 4
}
